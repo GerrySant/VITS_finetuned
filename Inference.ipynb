{
  "nbformat": 4,
  "nbformat_minor": 0,
  "metadata": {
    "colab": {
      "name": "BSC_Gerard_Sant.ipynb",
      "provenance": [],
      "collapsed_sections": []
    },
    "kernelspec": {
      "name": "python3",
      "display_name": "Python 3"
    },
    "language_info": {
      "name": "python"
    },
    "accelerator": "GPU"
  },
  "cells": [
    {
      "cell_type": "markdown",
      "source": [
        "#Speech synthesis inference using the finetuned [VITS](https://arxiv.org/pdf/2106.06103.pdf) model"
      ],
      "metadata": {
        "id": "PChzxCoNsgqE"
      }
    },
    {
      "cell_type": "markdown",
      "source": [
        "## Installation and Set up"
      ],
      "metadata": {
        "id": "WhSXfkcNqHxI"
      }
    },
    {
      "cell_type": "markdown",
      "source": [
        "Required packages for correct downloading of the model files:"
      ],
      "metadata": {
        "id": "0mRSwNZAtcky"
      }
    },
    {
      "cell_type": "code",
      "source": [
        "!pip install git-lfs\n",
        "!git lfs install"
      ],
      "metadata": {
        "colab": {
          "base_uri": "https://localhost:8080/"
        },
        "id": "BH1lhbmxtaqZ",
        "outputId": "8479c353-cf05-4987-d39d-ed69fda21d23"
      },
      "execution_count": 1,
      "outputs": [
        {
          "output_type": "stream",
          "name": "stdout",
          "text": [
            "Collecting git-lfs\n",
            "  Downloading git_lfs-1.6-py2.py3-none-any.whl (5.6 kB)\n",
            "Installing collected packages: git-lfs\n",
            "Successfully installed git-lfs-1.6\n",
            "Error: Failed to call git rev-parse --git-dir --show-toplevel: \"fatal: not a git repository (or any of the parent directories): .git\\n\"\n",
            "Git LFS initialized.\n"
          ]
        }
      ]
    },
    {
      "cell_type": "markdown",
      "source": [
        "Clone the [github repository](https://github.com/GerrySant/VITS_finetuned) where the model is stored:"
      ],
      "metadata": {
        "id": "i7Hqv4sdu4Gq"
      }
    },
    {
      "cell_type": "code",
      "source": [
        "!git clone https://github.com/GerrySant/VITS_finetuned.git"
      ],
      "metadata": {
        "colab": {
          "base_uri": "https://localhost:8080/"
        },
        "id": "szKu-HNKue2o",
        "outputId": "86278c1c-8f5b-4817-a2fc-2d8e4a9e04fc"
      },
      "execution_count": 2,
      "outputs": [
        {
          "output_type": "stream",
          "name": "stdout",
          "text": [
            "Cloning into 'VITS_finetuned'...\n",
            "remote: Enumerating objects: 25, done.\u001b[K\n",
            "remote: Counting objects: 100% (25/25), done.\u001b[K\n",
            "remote: Compressing objects: 100% (21/21), done.\u001b[K\n",
            "remote: Total 25 (delta 3), reused 21 (delta 2), pack-reused 0\u001b[K\n",
            "Unpacking objects: 100% (25/25), done.\n",
            "tcmalloc: large alloc 1471086592 bytes == 0x5639e0ba6000 @  0x7f71c20f52a4 0x5639a3ae0e8f 0x5639a3abdfcb 0x5639a3a72f33 0x5639a3a1722a 0x5639a3a176e6 0x5639a3a34451 0x5639a3a349e9 0x5639a3a34f13 0x5639a3ad9b82 0x5639a397b162 0x5639a3961a65 0x5639a3962725 0x5639a396172a 0x7f71c143bc87 0x5639a396177a\n"
          ]
        }
      ]
    },
    {
      "cell_type": "markdown",
      "source": [
        "Clone and set up the [github repository](https://github.com/coqui-ai/TTS) of the text to speech library. "
      ],
      "metadata": {
        "id": "xpYWPM-suEBf"
      }
    },
    {
      "cell_type": "code",
      "source": [
        "# Clone\n",
        "!git clone https://github.com/coqui-ai/TTS.git\n",
        "\n",
        "# Installation of the library's required packages\n",
        "!pip install -q -e TTS\n",
        "!cd TTS && python setup.py develop\n",
        "\n",
        "# It fixes the numpy version conflict. It requires restarting the runtime - done automatically by exit() -\n",
        "!pip install --upgrade numpy\n",
        "exit()"
      ],
      "metadata": {
        "colab": {
          "base_uri": "https://localhost:8080/",
          "height": 1000
        },
        "id": "Bbl6245gp820",
        "outputId": "bd5f654b-db27-4c1a-9670-55ee2e97f6d3"
      },
      "execution_count": 3,
      "outputs": [
        {
          "output_type": "stream",
          "name": "stdout",
          "text": [
            "Cloning into 'TTS'...\n",
            "remote: Enumerating objects: 27314, done.\u001b[K\n",
            "remote: Counting objects: 100% (127/127), done.\u001b[K\n",
            "remote: Compressing objects: 100% (51/51), done.\u001b[K\n",
            "remote: Total 27314 (delta 77), reused 102 (delta 72), pack-reused 27187\u001b[K\n",
            "Receiving objects: 100% (27314/27314), 128.35 MiB | 15.67 MiB/s, done.\n",
            "Resolving deltas: 100% (19975/19975), done.\n",
            "  Installing build dependencies ... \u001b[?25l\u001b[?25hdone\n",
            "  Getting requirements to build wheel ... \u001b[?25l\u001b[?25hdone\n",
            "    Preparing wheel metadata ... \u001b[?25l\u001b[?25hdone\n",
            "\u001b[K     |████████████████████████████████| 287 kB 11.9 MB/s \n",
            "\u001b[K     |████████████████████████████████| 80 kB 8.5 MB/s \n",
            "\u001b[K     |████████████████████████████████| 212 kB 48.8 MB/s \n",
            "\u001b[?25h  Installing build dependencies ... \u001b[?25l\u001b[?25hdone\n",
            "  Getting requirements to build wheel ... \u001b[?25l\u001b[?25hdone\n",
            "    Preparing wheel metadata ... \u001b[?25l\u001b[?25hdone\n",
            "\u001b[K     |████████████████████████████████| 3.4 MB 39.3 MB/s \n",
            "\u001b[K     |████████████████████████████████| 1.3 MB 40.5 MB/s \n",
            "\u001b[K     |████████████████████████████████| 125 kB 56.0 MB/s \n",
            "\u001b[?25h  Installing build dependencies ... \u001b[?25l\u001b[?25hdone\n",
            "  Getting requirements to build wheel ... \u001b[?25l\u001b[?25hdone\n",
            "    Preparing wheel metadata ... \u001b[?25l\u001b[?25hdone\n",
            "\u001b[K     |████████████████████████████████| 487 kB 44.8 MB/s \n",
            "\u001b[K     |████████████████████████████████| 183 kB 51.6 MB/s \n",
            "\u001b[K     |████████████████████████████████| 136 kB 50.9 MB/s \n",
            "\u001b[K     |████████████████████████████████| 71 kB 8.0 MB/s \n",
            "\u001b[K     |████████████████████████████████| 73 kB 1.7 MB/s \n",
            "\u001b[K     |████████████████████████████████| 47.4 MB 2.2 MB/s \n",
            "\u001b[K     |████████████████████████████████| 288 kB 46.3 MB/s \n",
            "\u001b[K     |████████████████████████████████| 101 kB 9.7 MB/s \n",
            "\u001b[K     |████████████████████████████████| 15.2 MB 49 kB/s \n",
            "\u001b[K     |████████████████████████████████| 101 kB 9.8 MB/s \n",
            "\u001b[K     |████████████████████████████████| 965 kB 45.2 MB/s \n",
            "\u001b[K     |████████████████████████████████| 2.9 MB 42.5 MB/s \n",
            "\u001b[K     |████████████████████████████████| 2.8 MB 34.4 MB/s \n",
            "\u001b[K     |████████████████████████████████| 8.5 MB 37.4 MB/s \n",
            "\u001b[K     |████████████████████████████████| 18.1 MB 843 kB/s \n",
            "\u001b[K     |████████████████████████████████| 7.0 MB 26.8 MB/s \n",
            "\u001b[K     |████████████████████████████████| 5.0 MB 40.3 MB/s \n",
            "\u001b[K     |████████████████████████████████| 35.0 MB 347 kB/s \n",
            "\u001b[K     |████████████████████████████████| 11.0 MB 24.1 MB/s \n",
            "\u001b[K     |████████████████████████████████| 31.4 MB 1.3 MB/s \n",
            "\u001b[K     |████████████████████████████████| 25.3 MB 1.5 MB/s \n",
            "\u001b[K     |████████████████████████████████| 1.1 MB 32.2 MB/s \n",
            "\u001b[?25h  Building wheel for gruut (setup.py) ... \u001b[?25l\u001b[?25hdone\n",
            "  Building wheel for librosa (setup.py) ... \u001b[?25l\u001b[?25hdone\n",
            "  Building wheel for umap-learn (setup.py) ... \u001b[?25l\u001b[?25hdone\n",
            "  Building wheel for unidic-lite (setup.py) ... \u001b[?25l\u001b[?25hdone\n",
            "  Building wheel for gruut-ipa (setup.py) ... \u001b[?25l\u001b[?25hdone\n",
            "  Building wheel for gruut-lang-cs (setup.py) ... \u001b[?25l\u001b[?25hdone\n",
            "  Building wheel for gruut-lang-de (setup.py) ... \u001b[?25l\u001b[?25hdone\n",
            "  Building wheel for gruut-lang-en (setup.py) ... \u001b[?25l\u001b[?25hdone\n",
            "  Building wheel for gruut-lang-es (setup.py) ... \u001b[?25l\u001b[?25hdone\n",
            "  Building wheel for gruut-lang-fr (setup.py) ... \u001b[?25l\u001b[?25hdone\n",
            "  Building wheel for gruut-lang-it (setup.py) ... \u001b[?25l\u001b[?25hdone\n",
            "  Building wheel for gruut-lang-nl (setup.py) ... \u001b[?25l\u001b[?25hdone\n",
            "  Building wheel for gruut-lang-pt (setup.py) ... \u001b[?25l\u001b[?25hdone\n",
            "  Building wheel for gruut-lang-ru (setup.py) ... \u001b[?25l\u001b[?25hdone\n",
            "  Building wheel for gruut-lang-sv (setup.py) ... \u001b[?25l\u001b[?25hdone\n",
            "  Building wheel for pynndescent (setup.py) ... \u001b[?25l\u001b[?25hdone\n",
            "  Building wheel for pyworld (PEP 517) ... \u001b[?25l\u001b[?25hdone\n",
            "  Building wheel for trainer (PEP 517) ... \u001b[?25l\u001b[?25hdone\n",
            "\u001b[31mERROR: pip's dependency resolver does not currently take into account all the packages that are installed. This behaviour is the source of the following dependency conflicts.\n",
            "tensorflow 2.8.0 requires tf-estimator-nightly==2.8.0.dev2021122109, which is not installed.\n",
            "tensorflow 2.8.0 requires numpy>=1.20, but you have numpy 1.19.5 which is incompatible.\n",
            "datascience 0.10.6 requires folium==0.2.1, but you have folium 0.8.3 which is incompatible.\n",
            "albumentations 0.1.12 requires imgaug<0.2.7,>=0.2.5, but you have imgaug 0.2.9 which is incompatible.\u001b[0m\n",
            "/usr/local/lib/python3.7/dist-packages/setuptools/dist.py:700: UserWarning: Usage of dash-separated 'build-lib' will not be supported in future versions. Please use the underscore name 'build_lib' instead\n",
            "  % (opt, underscore_opt))\n",
            "/usr/local/lib/python3.7/dist-packages/setuptools/dist.py:700: UserWarning: Usage of dash-separated 'build-dir' will not be supported in future versions. Please use the underscore name 'build_dir' instead\n",
            "  % (opt, underscore_opt))\n",
            "running develop\n",
            "running egg_info\n",
            "writing TTS.egg-info/PKG-INFO\n",
            "writing dependency_links to TTS.egg-info/dependency_links.txt\n",
            "writing entry points to TTS.egg-info/entry_points.txt\n",
            "writing requirements to TTS.egg-info/requires.txt\n",
            "writing top-level names to TTS.egg-info/top_level.txt\n",
            "reading manifest template 'MANIFEST.in'\n",
            "adding license file 'LICENSE.txt'\n",
            "writing manifest file 'TTS.egg-info/SOURCES.txt'\n",
            "running build_ext\n",
            "copying build/lib.linux-x86_64-3.7/TTS/tts/utils/monotonic_align/core.cpython-37m-x86_64-linux-gnu.so -> TTS/tts/utils/monotonic_align\n",
            "Creating /usr/local/lib/python3.7/dist-packages/TTS.egg-link (link to .)\n",
            "Adding TTS 0.6.2 to easy-install.pth file\n",
            "Installing tts script to /usr/local/bin\n",
            "Installing tts-server script to /usr/local/bin\n",
            "\n",
            "Installed /content/TTS\n",
            "Processing dependencies for TTS==0.6.2\n",
            "Searching for gruut==2.2.3\n",
            "Best match: gruut 2.2.3\n",
            "Adding gruut 2.2.3 to easy-install.pth file\n",
            "Installing gruut script to /usr/local/bin\n",
            "\n",
            "Using /usr/local/lib/python3.7/dist-packages\n",
            "Searching for unidic-lite==1.0.8\n",
            "Best match: unidic-lite 1.0.8\n",
            "Adding unidic-lite 1.0.8 to easy-install.pth file\n",
            "\n",
            "Using /usr/local/lib/python3.7/dist-packages\n",
            "Searching for mecab-python3==1.0.3\n",
            "Best match: mecab-python3 1.0.3\n",
            "Adding mecab-python3 1.0.3 to easy-install.pth file\n",
            "Installing mecab-py script to /usr/local/bin\n",
            "Installing mecab-py-info script to /usr/local/bin\n",
            "\n",
            "Using /usr/local/lib/python3.7/dist-packages\n",
            "Searching for pypinyin==0.46.0\n",
            "Best match: pypinyin 0.46.0\n",
            "Adding pypinyin 0.46.0 to easy-install.pth file\n",
            "Installing pypinyin script to /usr/local/bin\n",
            "\n",
            "Using /usr/local/lib/python3.7/dist-packages\n",
            "Searching for jieba==0.42.1\n",
            "Best match: jieba 0.42.1\n",
            "Adding jieba 0.42.1 to easy-install.pth file\n",
            "\n",
            "Using /usr/local/lib/python3.7/dist-packages\n",
            "Searching for coqpit==0.0.16\n",
            "Best match: coqpit 0.0.16\n",
            "Adding coqpit 0.0.16 to easy-install.pth file\n",
            "\n",
            "Using /usr/local/lib/python3.7/dist-packages\n",
            "Searching for trainer==0.0.10\n",
            "Best match: trainer 0.0.10\n",
            "Adding trainer 0.0.10 to easy-install.pth file\n",
            "\n",
            "Using /usr/local/lib/python3.7/dist-packages\n",
            "Searching for pyworld==0.3.0\n",
            "Best match: pyworld 0.3.0\n",
            "Adding pyworld 0.3.0 to easy-install.pth file\n",
            "\n",
            "Using /usr/local/lib/python3.7/dist-packages\n",
            "Searching for tensorboardX==2.5\n",
            "Best match: tensorboardX 2.5\n",
            "Adding tensorboardX 2.5 to easy-install.pth file\n",
            "\n",
            "Using /usr/local/lib/python3.7/dist-packages\n",
            "Searching for matplotlib==3.2.2\n",
            "Best match: matplotlib 3.2.2\n",
            "Adding matplotlib 3.2.2 to easy-install.pth file\n",
            "\n",
            "Using /usr/local/lib/python3.7/dist-packages\n",
            "Searching for pandas==1.3.5\n",
            "Best match: pandas 1.3.5\n",
            "Adding pandas 1.3.5 to easy-install.pth file\n",
            "\n",
            "Using /usr/local/lib/python3.7/dist-packages\n",
            "Searching for umap-learn==0.5.1\n",
            "Best match: umap-learn 0.5.1\n",
            "Adding umap-learn 0.5.1 to easy-install.pth file\n",
            "\n",
            "Using /usr/local/lib/python3.7/dist-packages\n",
            "Searching for pysbd==0.3.4\n",
            "Best match: pysbd 0.3.4\n",
            "Adding pysbd 0.3.4 to easy-install.pth file\n",
            "\n",
            "Using /usr/local/lib/python3.7/dist-packages\n",
            "Searching for Flask==1.1.4\n",
            "Best match: Flask 1.1.4\n",
            "Adding Flask 1.1.4 to easy-install.pth file\n",
            "Installing flask script to /usr/local/bin\n",
            "\n",
            "Using /usr/local/lib/python3.7/dist-packages\n",
            "Searching for fsspec==2022.3.0\n",
            "Best match: fsspec 2022.3.0\n",
            "Adding fsspec 2022.3.0 to easy-install.pth file\n",
            "\n",
            "Using /usr/local/lib/python3.7/dist-packages\n",
            "Searching for PyYAML==3.13\n",
            "Best match: PyYAML 3.13\n",
            "Adding PyYAML 3.13 to easy-install.pth file\n",
            "\n",
            "Using /usr/local/lib/python3.7/dist-packages\n",
            "Searching for anyascii==0.3.1\n",
            "Best match: anyascii 0.3.1\n",
            "Adding anyascii 0.3.1 to easy-install.pth file\n",
            "\n",
            "Using /usr/local/lib/python3.7/dist-packages\n",
            "Searching for tqdm==4.64.0\n",
            "Best match: tqdm 4.64.0\n",
            "Adding tqdm 4.64.0 to easy-install.pth file\n",
            "Installing tqdm script to /usr/local/bin\n",
            "\n",
            "Using /usr/local/lib/python3.7/dist-packages\n",
            "Searching for inflect==2.1.0\n",
            "Best match: inflect 2.1.0\n",
            "Adding inflect 2.1.0 to easy-install.pth file\n",
            "\n",
            "Using /usr/local/lib/python3.7/dist-packages\n",
            "Searching for numba==0.53.0\n",
            "Best match: numba 0.53.0\n",
            "Adding numba 0.53.0 to easy-install.pth file\n",
            "\n",
            "Using /usr/local/lib/python3.7/dist-packages\n",
            "Searching for librosa==0.8.0\n",
            "Best match: librosa 0.8.0\n",
            "Adding librosa 0.8.0 to easy-install.pth file\n",
            "\n",
            "Using /usr/local/lib/python3.7/dist-packages\n",
            "Searching for SoundFile==0.10.3.post1\n",
            "Best match: SoundFile 0.10.3.post1\n",
            "Adding SoundFile 0.10.3.post1 to easy-install.pth file\n",
            "\n",
            "Using /usr/local/lib/python3.7/dist-packages\n",
            "Searching for torchaudio==0.11.0+cu113\n",
            "Best match: torchaudio 0.11.0+cu113\n",
            "Adding torchaudio 0.11.0+cu113 to easy-install.pth file\n",
            "\n",
            "Using /usr/local/lib/python3.7/dist-packages\n",
            "Searching for torch==1.11.0+cu113\n",
            "Best match: torch 1.11.0+cu113\n",
            "Adding torch 1.11.0+cu113 to easy-install.pth file\n",
            "Installing convert-caffe2-to-onnx script to /usr/local/bin\n",
            "Installing convert-onnx-to-caffe2 script to /usr/local/bin\n",
            "Installing torchrun script to /usr/local/bin\n",
            "\n",
            "Using /usr/local/lib/python3.7/dist-packages\n",
            "Searching for scipy==1.4.1\n",
            "Best match: scipy 1.4.1\n",
            "Adding scipy 1.4.1 to easy-install.pth file\n",
            "\n",
            "Using /usr/local/lib/python3.7/dist-packages\n",
            "Searching for Cython==0.29.28\n",
            "Best match: Cython 0.29.28\n",
            "Adding Cython 0.29.28 to easy-install.pth file\n",
            "Installing cygdb script to /usr/local/bin\n",
            "Installing cython script to /usr/local/bin\n",
            "Installing cythonize script to /usr/local/bin\n",
            "\n",
            "Using /usr/local/lib/python3.7/dist-packages\n",
            "Searching for numpy==1.19.5\n",
            "Best match: numpy 1.19.5\n",
            "Adding numpy 1.19.5 to easy-install.pth file\n",
            "Installing f2py script to /usr/local/bin\n",
            "Installing f2py3 script to /usr/local/bin\n",
            "Installing f2py3.7 script to /usr/local/bin\n",
            "\n",
            "Using /usr/local/lib/python3.7/dist-packages\n",
            "Searching for gruut-lang-nl==2.0.0\n",
            "Best match: gruut-lang-nl 2.0.0\n",
            "Adding gruut-lang-nl 2.0.0 to easy-install.pth file\n",
            "\n",
            "Using /usr/local/lib/python3.7/dist-packages\n",
            "Searching for gruut-lang-sv==2.0.0\n",
            "Best match: gruut-lang-sv 2.0.0\n",
            "Adding gruut-lang-sv 2.0.0 to easy-install.pth file\n",
            "\n",
            "Using /usr/local/lib/python3.7/dist-packages\n",
            "Searching for gruut-lang-cs==2.0.0\n",
            "Best match: gruut-lang-cs 2.0.0\n",
            "Adding gruut-lang-cs 2.0.0 to easy-install.pth file\n",
            "\n",
            "Using /usr/local/lib/python3.7/dist-packages\n",
            "Searching for gruut-lang-it==2.0.0\n",
            "Best match: gruut-lang-it 2.0.0\n",
            "Adding gruut-lang-it 2.0.0 to easy-install.pth file\n",
            "\n",
            "Using /usr/local/lib/python3.7/dist-packages\n",
            "Searching for gruut-lang-de==2.0.0\n",
            "Best match: gruut-lang-de 2.0.0\n",
            "Adding gruut-lang-de 2.0.0 to easy-install.pth file\n",
            "\n",
            "Using /usr/local/lib/python3.7/dist-packages\n",
            "Searching for gruut-lang-fr==2.0.0\n",
            "Best match: gruut-lang-fr 2.0.0\n",
            "Adding gruut-lang-fr 2.0.0 to easy-install.pth file\n",
            "\n",
            "Using /usr/local/lib/python3.7/dist-packages\n",
            "Searching for gruut-lang-pt==2.0.0\n",
            "Best match: gruut-lang-pt 2.0.0\n",
            "Adding gruut-lang-pt 2.0.0 to easy-install.pth file\n",
            "\n",
            "Using /usr/local/lib/python3.7/dist-packages\n",
            "Searching for gruut-lang-es==2.0.0\n",
            "Best match: gruut-lang-es 2.0.0\n",
            "Adding gruut-lang-es 2.0.0 to easy-install.pth file\n",
            "\n",
            "Using /usr/local/lib/python3.7/dist-packages\n",
            "Searching for gruut-lang-ru==2.0.0\n",
            "Best match: gruut-lang-ru 2.0.0\n",
            "Adding gruut-lang-ru 2.0.0 to easy-install.pth file\n",
            "\n",
            "Using /usr/local/lib/python3.7/dist-packages\n",
            "Searching for python-crfsuite==0.9.8\n",
            "Best match: python-crfsuite 0.9.8\n",
            "Adding python-crfsuite 0.9.8 to easy-install.pth file\n",
            "\n",
            "Using /usr/local/lib/python3.7/dist-packages\n",
            "Searching for jsonlines==1.2.0\n",
            "Best match: jsonlines 1.2.0\n",
            "Adding jsonlines 1.2.0 to easy-install.pth file\n",
            "\n",
            "Using /usr/local/lib/python3.7/dist-packages\n",
            "Searching for num2words==0.5.10\n",
            "Best match: num2words 0.5.10\n",
            "Adding num2words 0.5.10 to easy-install.pth file\n",
            "\n",
            "Using /usr/local/lib/python3.7/dist-packages\n",
            "Searching for dateparser==1.1.1\n",
            "Best match: dateparser 1.1.1\n",
            "Adding dateparser 1.1.1 to easy-install.pth file\n",
            "Installing dateparser-download script to /usr/local/bin\n",
            "\n",
            "Using /usr/local/lib/python3.7/dist-packages\n",
            "Searching for Babel==2.10.1\n",
            "Best match: Babel 2.10.1\n",
            "Adding Babel 2.10.1 to easy-install.pth file\n",
            "Installing pybabel script to /usr/local/bin\n",
            "\n",
            "Using /usr/local/lib/python3.7/dist-packages\n",
            "Searching for importlib-resources==5.7.1\n",
            "Best match: importlib-resources 5.7.1\n",
            "Adding importlib-resources 5.7.1 to easy-install.pth file\n",
            "\n",
            "Using /usr/local/lib/python3.7/dist-packages\n",
            "Searching for networkx==2.6.3\n",
            "Best match: networkx 2.6.3\n",
            "Adding networkx 2.6.3 to easy-install.pth file\n",
            "\n",
            "Using /usr/local/lib/python3.7/dist-packages\n",
            "Searching for gruut-lang-en==2.0.0\n",
            "Best match: gruut-lang-en 2.0.0\n",
            "Adding gruut-lang-en 2.0.0 to easy-install.pth file\n",
            "\n",
            "Using /usr/local/lib/python3.7/dist-packages\n",
            "Searching for gruut-ipa==0.13.0\n",
            "Best match: gruut-ipa 0.13.0\n",
            "Adding gruut-ipa 0.13.0 to easy-install.pth file\n",
            "Installing gruut-ipa script to /usr/local/bin\n",
            "\n",
            "Using /usr/local/lib/python3.7/dist-packages\n",
            "Searching for protobuf==3.17.3\n",
            "Best match: protobuf 3.17.3\n",
            "Adding protobuf 3.17.3 to easy-install.pth file\n",
            "\n",
            "Using /usr/local/lib/python3.7/dist-packages\n",
            "Searching for six==1.15.0\n",
            "Best match: six 1.15.0\n",
            "Adding six 1.15.0 to easy-install.pth file\n",
            "\n",
            "Using /usr/local/lib/python3.7/dist-packages\n",
            "Searching for cycler==0.11.0\n",
            "Best match: cycler 0.11.0\n",
            "Adding cycler 0.11.0 to easy-install.pth file\n",
            "\n",
            "Using /usr/local/lib/python3.7/dist-packages\n",
            "Searching for pyparsing==3.0.8\n",
            "Best match: pyparsing 3.0.8\n",
            "Adding pyparsing 3.0.8 to easy-install.pth file\n",
            "\n",
            "Using /usr/local/lib/python3.7/dist-packages\n",
            "Searching for kiwisolver==1.4.2\n",
            "Best match: kiwisolver 1.4.2\n",
            "Adding kiwisolver 1.4.2 to easy-install.pth file\n",
            "\n",
            "Using /usr/local/lib/python3.7/dist-packages\n",
            "Searching for python-dateutil==2.8.2\n",
            "Best match: python-dateutil 2.8.2\n",
            "Adding python-dateutil 2.8.2 to easy-install.pth file\n",
            "\n",
            "Using /usr/local/lib/python3.7/dist-packages\n",
            "Searching for pytz==2022.1\n",
            "Best match: pytz 2022.1\n",
            "Adding pytz 2022.1 to easy-install.pth file\n",
            "\n",
            "Using /usr/local/lib/python3.7/dist-packages\n",
            "Searching for pynndescent==0.5.6\n",
            "Best match: pynndescent 0.5.6\n",
            "Adding pynndescent 0.5.6 to easy-install.pth file\n",
            "\n",
            "Using /usr/local/lib/python3.7/dist-packages\n",
            "Searching for scikit-learn==1.0.2\n",
            "Best match: scikit-learn 1.0.2\n",
            "Adding scikit-learn 1.0.2 to easy-install.pth file\n",
            "\n",
            "Using /usr/local/lib/python3.7/dist-packages\n",
            "Searching for Werkzeug==1.0.1\n",
            "Best match: Werkzeug 1.0.1\n",
            "Adding Werkzeug 1.0.1 to easy-install.pth file\n",
            "\n",
            "Using /usr/local/lib/python3.7/dist-packages\n",
            "Searching for click==7.1.2\n",
            "Best match: click 7.1.2\n",
            "Adding click 7.1.2 to easy-install.pth file\n",
            "\n",
            "Using /usr/local/lib/python3.7/dist-packages\n",
            "Searching for itsdangerous==1.1.0\n",
            "Best match: itsdangerous 1.1.0\n",
            "Adding itsdangerous 1.1.0 to easy-install.pth file\n",
            "\n",
            "Using /usr/local/lib/python3.7/dist-packages\n",
            "Searching for Jinja2==2.11.3\n",
            "Best match: Jinja2 2.11.3\n",
            "Adding Jinja2 2.11.3 to easy-install.pth file\n",
            "\n",
            "Using /usr/local/lib/python3.7/dist-packages\n",
            "Searching for llvmlite==0.36.0\n",
            "Best match: llvmlite 0.36.0\n",
            "Adding llvmlite 0.36.0 to easy-install.pth file\n",
            "\n",
            "Using /usr/local/lib/python3.7/dist-packages\n",
            "Searching for setuptools==57.4.0\n",
            "Best match: setuptools 57.4.0\n",
            "Adding setuptools 57.4.0 to easy-install.pth file\n",
            "\n",
            "Using /usr/local/lib/python3.7/dist-packages\n",
            "Searching for resampy==0.2.2\n",
            "Best match: resampy 0.2.2\n",
            "Adding resampy 0.2.2 to easy-install.pth file\n",
            "\n",
            "Using /usr/local/lib/python3.7/dist-packages\n",
            "Searching for pooch==1.6.0\n",
            "Best match: pooch 1.6.0\n",
            "Adding pooch 1.6.0 to easy-install.pth file\n",
            "\n",
            "Using /usr/local/lib/python3.7/dist-packages\n",
            "Searching for decorator==4.4.2\n",
            "Best match: decorator 4.4.2\n",
            "Adding decorator 4.4.2 to easy-install.pth file\n",
            "\n",
            "Using /usr/local/lib/python3.7/dist-packages\n",
            "Searching for audioread==2.1.9\n",
            "Best match: audioread 2.1.9\n",
            "Adding audioread 2.1.9 to easy-install.pth file\n",
            "\n",
            "Using /usr/local/lib/python3.7/dist-packages\n",
            "Searching for joblib==1.1.0\n",
            "Best match: joblib 1.1.0\n",
            "Adding joblib 1.1.0 to easy-install.pth file\n",
            "\n",
            "Using /usr/local/lib/python3.7/dist-packages\n",
            "Searching for cffi==1.15.0\n",
            "Best match: cffi 1.15.0\n",
            "Adding cffi 1.15.0 to easy-install.pth file\n",
            "\n",
            "Using /usr/local/lib/python3.7/dist-packages\n",
            "Searching for typing-extensions==4.2.0\n",
            "Best match: typing-extensions 4.2.0\n",
            "Adding typing-extensions 4.2.0 to easy-install.pth file\n",
            "\n",
            "Using /usr/local/lib/python3.7/dist-packages\n",
            "Searching for docopt==0.6.2\n",
            "Best match: docopt 0.6.2\n",
            "Adding docopt 0.6.2 to easy-install.pth file\n",
            "\n",
            "Using /usr/local/lib/python3.7/dist-packages\n",
            "Searching for regex==2019.12.20\n",
            "Best match: regex 2019.12.20\n",
            "Adding regex 2019.12.20 to easy-install.pth file\n",
            "\n",
            "Using /usr/local/lib/python3.7/dist-packages\n",
            "Searching for tzlocal==1.5.1\n",
            "Best match: tzlocal 1.5.1\n",
            "Adding tzlocal 1.5.1 to easy-install.pth file\n",
            "\n",
            "Using /usr/local/lib/python3.7/dist-packages\n",
            "Searching for zipp==3.8.0\n",
            "Best match: zipp 3.8.0\n",
            "Adding zipp 3.8.0 to easy-install.pth file\n",
            "\n",
            "Using /usr/local/lib/python3.7/dist-packages\n",
            "Searching for threadpoolctl==3.1.0\n",
            "Best match: threadpoolctl 3.1.0\n",
            "Adding threadpoolctl 3.1.0 to easy-install.pth file\n",
            "\n",
            "Using /usr/local/lib/python3.7/dist-packages\n",
            "Searching for MarkupSafe==2.0.1\n",
            "Best match: MarkupSafe 2.0.1\n",
            "Adding MarkupSafe 2.0.1 to easy-install.pth file\n",
            "\n",
            "Using /usr/local/lib/python3.7/dist-packages\n",
            "Searching for requests==2.23.0\n",
            "Best match: requests 2.23.0\n",
            "Adding requests 2.23.0 to easy-install.pth file\n",
            "\n",
            "Using /usr/local/lib/python3.7/dist-packages\n",
            "Searching for packaging==21.3\n",
            "Best match: packaging 21.3\n",
            "Adding packaging 21.3 to easy-install.pth file\n",
            "\n",
            "Using /usr/local/lib/python3.7/dist-packages\n",
            "Searching for appdirs==1.4.4\n",
            "Best match: appdirs 1.4.4\n",
            "Adding appdirs 1.4.4 to easy-install.pth file\n",
            "\n",
            "Using /usr/local/lib/python3.7/dist-packages\n",
            "Searching for pycparser==2.21\n",
            "Best match: pycparser 2.21\n",
            "Adding pycparser 2.21 to easy-install.pth file\n",
            "\n",
            "Using /usr/local/lib/python3.7/dist-packages\n",
            "Searching for idna==2.10\n",
            "Best match: idna 2.10\n",
            "Adding idna 2.10 to easy-install.pth file\n",
            "\n",
            "Using /usr/local/lib/python3.7/dist-packages\n",
            "Searching for certifi==2021.10.8\n",
            "Best match: certifi 2021.10.8\n",
            "Adding certifi 2021.10.8 to easy-install.pth file\n",
            "\n",
            "Using /usr/local/lib/python3.7/dist-packages\n",
            "Searching for urllib3==1.24.3\n",
            "Best match: urllib3 1.24.3\n",
            "Adding urllib3 1.24.3 to easy-install.pth file\n",
            "\n",
            "Using /usr/local/lib/python3.7/dist-packages\n",
            "Searching for chardet==3.0.4\n",
            "Best match: chardet 3.0.4\n",
            "Adding chardet 3.0.4 to easy-install.pth file\n",
            "Installing chardetect script to /usr/local/bin\n",
            "\n",
            "Using /usr/local/lib/python3.7/dist-packages\n",
            "Finished processing dependencies for TTS==0.6.2\n",
            "Requirement already satisfied: numpy in /usr/local/lib/python3.7/dist-packages (1.19.5)\n",
            "Collecting numpy\n",
            "  Downloading numpy-1.21.6-cp37-cp37m-manylinux_2_12_x86_64.manylinux2010_x86_64.whl (15.7 MB)\n",
            "\u001b[K     |████████████████████████████████| 15.7 MB 11.4 MB/s \n",
            "\u001b[?25hInstalling collected packages: numpy\n",
            "  Attempting uninstall: numpy\n",
            "    Found existing installation: numpy 1.19.5\n",
            "    Uninstalling numpy-1.19.5:\n",
            "      Successfully uninstalled numpy-1.19.5\n",
            "\u001b[31mERROR: pip's dependency resolver does not currently take into account all the packages that are installed. This behaviour is the source of the following dependency conflicts.\n",
            "tensorflow 2.8.0 requires tf-estimator-nightly==2.8.0.dev2021122109, which is not installed.\n",
            "datascience 0.10.6 requires folium==0.2.1, but you have folium 0.8.3 which is incompatible.\n",
            "albumentations 0.1.12 requires imgaug<0.2.7,>=0.2.5, but you have imgaug 0.2.9 which is incompatible.\n",
            "tts 0.6.2 requires numpy==1.19.5, but you have numpy 1.21.6 which is incompatible.\u001b[0m\n",
            "Successfully installed numpy-1.21.6\n"
          ]
        },
        {
          "output_type": "display_data",
          "data": {
            "application/vnd.colab-display-data+json": {
              "pip_warning": {
                "packages": [
                  "numpy"
                ]
              }
            }
          },
          "metadata": {}
        }
      ]
    },
    {
      "cell_type": "markdown",
      "source": [
        "## Exercise 2: Inference"
      ],
      "metadata": {
        "id": "WN-oIYq3xpbm"
      }
    },
    {
      "cell_type": "markdown",
      "source": [
        "Create the folder where the output audios will be saved:"
      ],
      "metadata": {
        "id": "SaAS6KlHsC81"
      }
    },
    {
      "cell_type": "code",
      "source": [
        "import os\n",
        "\n",
        "os.makedirs('./OUTPUT_AUDIOS', exist_ok=True)"
      ],
      "metadata": {
        "id": "Oa6Ui6qKr9F7"
      },
      "execution_count": 4,
      "outputs": []
    },
    {
      "cell_type": "markdown",
      "source": [
        "Function that allows to keep the path to the \"speakers.json\" file updated."
      ],
      "metadata": {
        "id": "YOvRYOZuJGbz"
      }
    },
    {
      "cell_type": "code",
      "source": [
        "import json\n",
        "\n",
        "def update_speaker_path(config_path, speakers_path):\n",
        "\n",
        "  confg = open(config_path, \"r\")\n",
        "  json_object = json.load(confg)\n",
        "  confg.close()\n",
        "\n",
        "  json_object['model_args']['speakers_file'] = speakers_path\n",
        "  json_object['speakers_file'] = speakers_path\n",
        "\n",
        "  confg = open(config_path, \"w\")\n",
        "  json.dump(json_object, confg)\n",
        "  confg.close()"
      ],
      "metadata": {
        "id": "Dk2J_FbWHr2s"
      },
      "execution_count": 5,
      "outputs": []
    },
    {
      "cell_type": "markdown",
      "source": [
        "Determine the arguments necessary to perform inference:"
      ],
      "metadata": {
        "id": "FT2Hoy7hyemB"
      }
    },
    {
      "cell_type": "code",
      "source": [
        "message= \"Lets go tarkov\" # Enter the text you want to convert to speech.\n",
        "\n",
        "model_path = \"./VITS_finetuned/vits_BSC_Gerard_Sant/best_model.pth\" # Path to best_model.pth\n",
        "\n",
        "config_path = \"./VITS_finetuned/vits_BSC_Gerard_Sant/config.json\" # Path to config.json\n",
        "\n",
        "speaker_path = \"./VITS_finetuned/vits_BSC_Gerard_Sant/speakers.json\" # Path to speakers.json"
      ],
      "metadata": {
        "id": "JC5_sNIoGO_Z"
      },
      "execution_count": 6,
      "outputs": []
    },
    {
      "cell_type": "markdown",
      "source": [
        "Perform inference using the following code cell:"
      ],
      "metadata": {
        "id": "G8I01i2i0INR"
      }
    },
    {
      "cell_type": "code",
      "source": [
        "update_speaker_path(config_path, speaker_path)\n",
        "\n",
        "!python ./TTS/TTS/bin/synthesize.py --text \"{message}\" \\\n",
        "      --model_path {model_path} \\\n",
        "      --config_path {config_path} \\\n",
        "      --speaker_id my_speaker \\\n",
        "      --out_path OUTPUT_AUDIOS/output.wav"
      ],
      "metadata": {
        "colab": {
          "base_uri": "https://localhost:8080/"
        },
        "id": "Ds8rGbb0Gs-y",
        "outputId": "c983a85c-8bfa-45be-f734-2356013cea30"
      },
      "execution_count": 7,
      "outputs": [
        {
          "output_type": "stream",
          "name": "stdout",
          "text": [
            " > Using model: vits\n",
            " > Setting up Audio Processor...\n",
            " | > sample_rate:22050\n",
            " | > resample:True\n",
            " | > num_mels:80\n",
            " | > log_func:np.log\n",
            " | > min_level_db:-100\n",
            " | > frame_shift_ms:None\n",
            " | > frame_length_ms:None\n",
            " | > ref_level_db:20\n",
            " | > fft_size:1024\n",
            " | > power:1.5\n",
            " | > preemphasis:0.0\n",
            " | > griffin_lim_iters:60\n",
            " | > signal_norm:False\n",
            " | > symmetric_norm:True\n",
            " | > mel_fmin:0\n",
            " | > mel_fmax:None\n",
            " | > pitch_fmin:0.0\n",
            " | > pitch_fmax:640.0\n",
            " | > spec_gain:1.0\n",
            " | > stft_pad_mode:reflect\n",
            " | > max_norm:4.0\n",
            " | > clip_norm:True\n",
            " | > do_trim_silence:True\n",
            " | > trim_db:23\n",
            " | > do_sound_norm:False\n",
            " | > do_amp_to_db_linear:False\n",
            " | > do_amp_to_db_mel:True\n",
            " | > do_rms_norm:False\n",
            " | > db_level:None\n",
            " | > stats_path:None\n",
            " | > base:2.718281828459045\n",
            " | > hop_length:256\n",
            " | > win_length:1024\n",
            " > initialization of speaker-embedding layers.\n",
            " > Using Griffin-Lim as no vocoder model defined\n",
            " > Text: Lets go tarkov\n",
            " > Text splitted to sentences.\n",
            "['Lets go tarkov']\n",
            " > Processing time: 2.5188755989074707\n",
            " > Real-time factor: 1.3470413018022342\n",
            " > Saving output to OUTPUT_AUDIOS/output.wav\n"
          ]
        }
      ]
    },
    {
      "cell_type": "markdown",
      "source": [
        "## Exercise 3: Inference through a local website\n"
      ],
      "metadata": {
        "id": "LmJa4jn4uR3H"
      }
    },
    {
      "cell_type": "markdown",
      "source": [
        "Install the necessary packages for running the web locally"
      ],
      "metadata": {
        "id": "88EBw0zsz1up"
      }
    },
    {
      "cell_type": "code",
      "source": [
        "!pip install flask && pip install redis"
      ],
      "metadata": {
        "colab": {
          "base_uri": "https://localhost:8080/"
        },
        "id": "HrKPHthhuQuj",
        "outputId": "fe4c41d3-e04e-40e7-a7af-960b06ae5906"
      },
      "execution_count": 1,
      "outputs": [
        {
          "output_type": "stream",
          "name": "stdout",
          "text": [
            "Requirement already satisfied: flask in /usr/local/lib/python3.7/dist-packages (1.1.4)\n",
            "Requirement already satisfied: Werkzeug<2.0,>=0.15 in /usr/local/lib/python3.7/dist-packages (from flask) (1.0.1)\n",
            "Requirement already satisfied: click<8.0,>=5.1 in /usr/local/lib/python3.7/dist-packages (from flask) (7.1.2)\n",
            "Requirement already satisfied: Jinja2<3.0,>=2.10.1 in /usr/local/lib/python3.7/dist-packages (from flask) (2.11.3)\n",
            "Requirement already satisfied: itsdangerous<2.0,>=0.24 in /usr/local/lib/python3.7/dist-packages (from flask) (1.1.0)\n",
            "Requirement already satisfied: MarkupSafe>=0.23 in /usr/local/lib/python3.7/dist-packages (from Jinja2<3.0,>=2.10.1->flask) (2.0.1)\n",
            "Collecting redis\n",
            "  Downloading redis-4.2.2-py3-none-any.whl (226 kB)\n",
            "\u001b[K     |████████████████████████████████| 226 kB 12.2 MB/s \n",
            "\u001b[?25hRequirement already satisfied: importlib-metadata>=1.0 in /usr/local/lib/python3.7/dist-packages (from redis) (4.11.3)\n",
            "Collecting deprecated>=1.2.3\n",
            "  Downloading Deprecated-1.2.13-py2.py3-none-any.whl (9.6 kB)\n",
            "Requirement already satisfied: typing-extensions in /usr/local/lib/python3.7/dist-packages (from redis) (4.2.0)\n",
            "Collecting async-timeout>=4.0.2\n",
            "  Downloading async_timeout-4.0.2-py3-none-any.whl (5.8 kB)\n",
            "Requirement already satisfied: packaging>=20.4 in /usr/local/lib/python3.7/dist-packages (from redis) (21.3)\n",
            "Requirement already satisfied: wrapt<2,>=1.10 in /usr/local/lib/python3.7/dist-packages (from deprecated>=1.2.3->redis) (1.14.0)\n",
            "Requirement already satisfied: zipp>=0.5 in /usr/local/lib/python3.7/dist-packages (from importlib-metadata>=1.0->redis) (3.8.0)\n",
            "Requirement already satisfied: pyparsing!=3.0.5,>=2.0.2 in /usr/local/lib/python3.7/dist-packages (from packaging>=20.4->redis) (3.0.8)\n",
            "Installing collected packages: deprecated, async-timeout, redis\n",
            "Successfully installed async-timeout-4.0.2 deprecated-1.2.13 redis-4.2.2\n"
          ]
        }
      ]
    },
    {
      "cell_type": "markdown",
      "source": [
        "Please, run the following cell and click on the address that appears in the output"
      ],
      "metadata": {
        "id": "Zcsj6PalyZsU"
      }
    },
    {
      "cell_type": "code",
      "source": [
        "!python ./VITS_finetuned/vits_web/app.py"
      ],
      "metadata": {
        "colab": {
          "base_uri": "https://localhost:8080/"
        },
        "id": "u8JMVhHauaGw",
        "outputId": "6ca51f4f-4ddc-4814-8384-456be081ea72"
      },
      "execution_count": null,
      "outputs": [
        {
          "output_type": "stream",
          "name": "stdout",
          "text": [
            " * Serving Flask app \"app\" (lazy loading)\n",
            " * Environment: production\n",
            "\u001b[31m   WARNING: This is a development server. Do not use it in a production deployment.\u001b[0m\n",
            "\u001b[2m   Use a production WSGI server instead.\u001b[0m\n",
            " * Debug mode: on\n",
            " * Running on http://127.0.0.1:5000/ (Press CTRL+C to quit)\n",
            " * Restarting with stat\n",
            " * Debugger is active!\n",
            " * Debugger PIN: 264-649-855\n"
          ]
        }
      ]
    }
  ]
}