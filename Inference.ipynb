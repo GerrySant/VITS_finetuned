{
  "cells": [
    {
      "cell_type": "markdown",
      "metadata": {
        "id": "PChzxCoNsgqE"
      },
      "source": [
        "#Speech synthesis inference using the finetuned [VITS](https://arxiv.org/pdf/2106.06103.pdf) model"
      ]
    },
    {
      "cell_type": "markdown",
      "metadata": {
        "id": "WhSXfkcNqHxI"
      },
      "source": [
        "## Installation and Set up"
      ]
    },
    {
      "cell_type": "markdown",
      "metadata": {
        "id": "0mRSwNZAtcky"
      },
      "source": [
        "Required packages for correct downloading of the model files:"
      ]
    },
    {
      "cell_type": "code",
      "execution_count": null,
      "metadata": {
        "colab": {
          "base_uri": "https://localhost:8080/"
        },
        "id": "BH1lhbmxtaqZ",
        "outputId": "8479c353-cf05-4987-d39d-ed69fda21d23"
      },
      "outputs": [],
      "source": [
        "!pip install git-lfs\n",
        "!git lfs install"
      ]
    },
    {
      "cell_type": "markdown",
      "metadata": {
        "id": "i7Hqv4sdu4Gq"
      },
      "source": [
        "Clone the [github repository](https://github.com/GerrySant/VITS_finetuned) where the model is stored:"
      ]
    },
    {
      "cell_type": "code",
      "execution_count": null,
      "metadata": {
        "colab": {
          "base_uri": "https://localhost:8080/"
        },
        "id": "szKu-HNKue2o",
        "outputId": "86278c1c-8f5b-4817-a2fc-2d8e4a9e04fc"
      },
      "outputs": [],
      "source": [
        "!git clone https://github.com/GerrySant/VITS_finetuned.git"
      ]
    },
    {
      "cell_type": "markdown",
      "metadata": {
        "id": "xpYWPM-suEBf"
      },
      "source": [
        "Clone and set up the [github repository](https://github.com/coqui-ai/TTS) of the text to speech library. "
      ]
    },
    {
      "cell_type": "code",
      "execution_count": null,
      "metadata": {
        "colab": {
          "base_uri": "https://localhost:8080/",
          "height": 1000
        },
        "id": "Bbl6245gp820",
        "outputId": "bd5f654b-db27-4c1a-9670-55ee2e97f6d3"
      },
      "outputs": [],
      "source": [
        "# Clone\n",
        "!git clone https://github.com/coqui-ai/TTS.git\n",
        "\n",
        "# Installation of the library's required packages\n",
        "!pip install -q -e TTS\n",
        "!cd TTS && python setup.py develop\n",
        "\n",
        "# It fixes the numpy version conflict. It requires restarting the runtime - done automatically by exit() -\n",
        "!pip install --upgrade numpy\n",
        "exit()"
      ]
    },
    {
      "cell_type": "markdown",
      "metadata": {
        "id": "WN-oIYq3xpbm"
      },
      "source": [
        "## Exercise 2: Inference"
      ]
    },
    {
      "cell_type": "markdown",
      "metadata": {
        "id": "SaAS6KlHsC81"
      },
      "source": [
        "Create the folder where the output audios will be saved:"
      ]
    },
    {
      "cell_type": "code",
      "execution_count": null,
      "metadata": {
        "id": "Oa6Ui6qKr9F7"
      },
      "outputs": [],
      "source": [
        "import os\n",
        "\n",
        "os.makedirs('./OUTPUT_AUDIOS', exist_ok=True)"
      ]
    },
    {
      "cell_type": "markdown",
      "metadata": {
        "id": "YOvRYOZuJGbz"
      },
      "source": [
        "Function that allows to keep the path to the \"speakers.json\" file updated."
      ]
    },
    {
      "cell_type": "code",
      "execution_count": null,
      "metadata": {
        "id": "Dk2J_FbWHr2s"
      },
      "outputs": [],
      "source": [
        "import json\n",
        "\n",
        "def update_speaker_path(config_path, speakers_path):\n",
        "\n",
        "  confg = open(config_path, \"r\")\n",
        "  json_object = json.load(confg)\n",
        "  confg.close()\n",
        "\n",
        "  json_object['model_args']['speakers_file'] = speakers_path\n",
        "  json_object['speakers_file'] = speakers_path\n",
        "\n",
        "  confg = open(config_path, \"w\")\n",
        "  json.dump(json_object, confg)\n",
        "  confg.close()"
      ]
    },
    {
      "cell_type": "markdown",
      "metadata": {
        "id": "FT2Hoy7hyemB"
      },
      "source": [
        "Determine the arguments necessary to perform inference:"
      ]
    },
    {
      "cell_type": "code",
      "execution_count": null,
      "metadata": {
        "id": "JC5_sNIoGO_Z"
      },
      "outputs": [],
      "source": [
        "message= \"It's always darkest before it becomes totally black\" # Enter the text you want to convert to speech.\n",
        "\n",
        "model_path = \"./VITS_finetuned/vits_BSC_Gerard_Sant/best_model.pth\" # Path to best_model.pth\n",
        "\n",
        "config_path = \"./VITS_finetuned/vits_BSC_Gerard_Sant/config.json\" # Path to config.json\n",
        "\n",
        "speaker_path = \"./VITS_finetuned/vits_BSC_Gerard_Sant/speakers.json\" # Path to speakers.json"
      ]
    },
    {
      "cell_type": "markdown",
      "metadata": {
        "id": "G8I01i2i0INR"
      },
      "source": [
        "Perform inference using the following code cell:"
      ]
    },
    {
      "cell_type": "code",
      "execution_count": null,
      "metadata": {
        "colab": {
          "base_uri": "https://localhost:8080/"
        },
        "id": "Ds8rGbb0Gs-y",
        "outputId": "54c8a41c-a036-4b35-a9c4-4f17dbac82c2"
      },
      "outputs": [],
      "source": [
        "update_speaker_path(config_path, speaker_path)\n",
        "\n",
        "!python ./TTS/TTS/bin/synthesize.py --text \"{message}\" \\\n",
        "      --model_path {model_path} \\\n",
        "      --config_path {config_path} \\\n",
        "      --speaker_id my_speaker \\\n",
        "      --out_path OUTPUT_AUDIOS/output.wav"
      ]
    },
    {
      "cell_type": "markdown",
      "metadata": {
        "id": "LmJa4jn4uR3H"
      },
      "source": [
        "## Exercise 3: Inference through a local website\n"
      ]
    },
    {
      "cell_type": "markdown",
      "metadata": {
        "id": "88EBw0zsz1up"
      },
      "source": [
        "Install the necessary packages for running the web locally"
      ]
    },
    {
      "cell_type": "code",
      "execution_count": null,
      "metadata": {
        "colab": {
          "base_uri": "https://localhost:8080/"
        },
        "id": "HrKPHthhuQuj",
        "outputId": "fe4c41d3-e04e-40e7-a7af-960b06ae5906"
      },
      "outputs": [],
      "source": [
        "!pip install flask && pip install redis"
      ]
    },
    {
      "cell_type": "markdown",
      "metadata": {
        "id": "Zcsj6PalyZsU"
      },
      "source": [
        "Please, run the following cell and click on the address that appears in the output"
      ]
    },
    {
      "cell_type": "code",
      "execution_count": null,
      "metadata": {
        "colab": {
          "base_uri": "https://localhost:8080/"
        },
        "id": "u8JMVhHauaGw",
        "outputId": "6ca51f4f-4ddc-4814-8384-456be081ea72"
      },
      "outputs": [],
      "source": [
        "!python ./VITS_finetuned/vits_web/app.py"
      ]
    }
  ],
  "metadata": {
    "accelerator": "GPU",
    "colab": {
      "collapsed_sections": [],
      "name": "BSC_Gerard_Sant.ipynb",
      "provenance": []
    },
    "kernelspec": {
      "display_name": "Python 3",
      "name": "python3"
    },
    "language_info": {
      "name": "python"
    }
  },
  "nbformat": 4,
  "nbformat_minor": 0
}
